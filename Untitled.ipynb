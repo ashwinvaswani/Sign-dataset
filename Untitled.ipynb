{
 "cells": [
  {
   "cell_type": "code",
   "execution_count": 1,
   "metadata": {},
   "outputs": [],
   "source": [
    "import os"
   ]
  },
  {
   "cell_type": "code",
   "execution_count": 4,
   "metadata": {},
   "outputs": [],
   "source": [
    "current_dir = '/media/ubnutu/Windows/Users/hp/Documents/GitHub/Sign-dataset/Dataset'"
   ]
  },
  {
   "cell_type": "code",
   "execution_count": 9,
   "metadata": {},
   "outputs": [
    {
     "ename": "FileNotFoundError",
     "evalue": "[Errno 2] No such file or directory: '1' -> 'A'",
     "output_type": "error",
     "traceback": [
      "\u001b[0;31m---------------------------------------------------------------------------\u001b[0m",
      "\u001b[0;31mFileNotFoundError\u001b[0m                         Traceback (most recent call last)",
      "\u001b[0;32m<ipython-input-9-06a6593dfc04>\u001b[0m in \u001b[0;36m<module>\u001b[0;34m\u001b[0m\n\u001b[1;32m      2\u001b[0m     \u001b[0;31m#print(folder)\u001b[0m\u001b[0;34m\u001b[0m\u001b[0;34m\u001b[0m\u001b[0;34m\u001b[0m\u001b[0m\n\u001b[1;32m      3\u001b[0m     \u001b[0;32mif\u001b[0m \u001b[0mfolder\u001b[0m \u001b[0;34m==\u001b[0m \u001b[0;34m'1'\u001b[0m\u001b[0;34m:\u001b[0m\u001b[0;34m\u001b[0m\u001b[0;34m\u001b[0m\u001b[0m\n\u001b[0;32m----> 4\u001b[0;31m         \u001b[0mos\u001b[0m\u001b[0;34m.\u001b[0m\u001b[0mrename\u001b[0m\u001b[0;34m(\u001b[0m\u001b[0mfolder\u001b[0m\u001b[0;34m,\u001b[0m\u001b[0;34m'A'\u001b[0m\u001b[0;34m)\u001b[0m\u001b[0;34m\u001b[0m\u001b[0;34m\u001b[0m\u001b[0m\n\u001b[0m\u001b[1;32m      5\u001b[0m     \u001b[0;32melif\u001b[0m \u001b[0mfolder\u001b[0m \u001b[0;34m==\u001b[0m \u001b[0;36m2\u001b[0m\u001b[0;34m:\u001b[0m\u001b[0;34m\u001b[0m\u001b[0;34m\u001b[0m\u001b[0m\n\u001b[1;32m      6\u001b[0m         \u001b[0mos\u001b[0m\u001b[0;34m.\u001b[0m\u001b[0mrename\u001b[0m\u001b[0;34m(\u001b[0m\u001b[0;36m2\u001b[0m\u001b[0;34m,\u001b[0m\u001b[0;34m'B'\u001b[0m\u001b[0;34m)\u001b[0m\u001b[0;34m\u001b[0m\u001b[0;34m\u001b[0m\u001b[0m\n",
      "\u001b[0;31mFileNotFoundError\u001b[0m: [Errno 2] No such file or directory: '1' -> 'A'"
     ]
    }
   ],
   "source": [
    "for folder in os.listdir(current_dir):\n",
    "    #print(folder)\n",
    "    if folder == '1':\n",
    "        os.rename(folder,'A')\n",
    "    elif folder == 2:\n",
    "        os.rename(2,'B')\n",
    "    elif folder == 6:\n",
    "        os.rename(6,'C')\n",
    "    elif folder == 8:\n",
    "        os.rename(8,'D')\n",
    "    elif folder == 9:\n",
    "        os.rename(9,'E')\n",
    "    elif folder == 11:\n",
    "        os.rename(11,'F')\n",
    "    elif folder == 13:\n",
    "        os.rename(13,'G')\n",
    "    elif folder == 14:\n",
    "        os.rename(14,'H')\n",
    "    elif folder == 15:\n",
    "        os.rename(15,'I')\n",
    "    elif folder == 16:\n",
    "        os.rename(16,'J')\n",
    "    elif folder == 18:\n",
    "        os.rename(18,'K')\n",
    "    elif folder == 20:\n",
    "        os.rename(20,'L')\n",
    "    elif folder == 21:\n",
    "        os.rename(21,'M')\n",
    "    elif folder == 22:\n",
    "        os.rename(22,'N')\n",
    "    elif folder == 23:\n",
    "        os.rename(23,'O')\n",
    "    elif folder == 24:\n",
    "        os.rename(24,'P')\n",
    "    elif folder == 27:\n",
    "        os.rename(27,'Q')\n",
    "    elif folder == 28:\n",
    "        os.rename(28,'R')\n",
    "    elif folder == 29:\n",
    "        os.rename(29,'S')\n",
    "    elif folder == 30:\n",
    "        os.rename(30,'T')\n",
    "    elif folder == 31:\n",
    "        os.rename(31,'U')\n",
    "    elif folder == 32:\n",
    "        os.rename(32,'V')\n",
    "    elif folder == 33:\n",
    "        os.rename(33,'W')\n",
    "    elif folder == 34:\n",
    "        os.rename(34,'X')\n",
    "    elif folder == 35:\n",
    "        os.rename(35,'Y')\n",
    "    elif folder == 36:\n",
    "        os.rename(36,'Z')\n",
    "    elif folder == 38:\n",
    "        os.rename(38,'nothing')\n",
    "    elif folder == 39:\n",
    "        os.rename(39,'space')\n",
    "    elif folder == 41:\n",
    "        os.rename(41,'delete')\n",
    "    elif folder == 43:\n",
    "        os.rename(43,'complete')"
   ]
  },
  {
   "cell_type": "code",
   "execution_count": null,
   "metadata": {},
   "outputs": [],
   "source": []
  }
 ],
 "metadata": {
  "kernelspec": {
   "display_name": "Python 3",
   "language": "python",
   "name": "python3"
  },
  "language_info": {
   "codemirror_mode": {
    "name": "ipython",
    "version": 3
   },
   "file_extension": ".py",
   "mimetype": "text/x-python",
   "name": "python",
   "nbconvert_exporter": "python",
   "pygments_lexer": "ipython3",
   "version": "3.7.3"
  }
 },
 "nbformat": 4,
 "nbformat_minor": 2
}
